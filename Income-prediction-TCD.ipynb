{
 "cells": [
  {
   "cell_type": "code",
   "execution_count": 1,
   "metadata": {},
   "outputs": [
    {
     "name": "stderr",
     "output_type": "stream",
     "text": [
      "C:\\winpython\\WinPython-64bit-3.6.1.0Qt5\\python-3.6.1.amd64\\lib\\site-packages\\pandas\\compat\\_optional.py:106: UserWarning: Pandas requires version '1.2.1' or newer of 'bottleneck' (version '1.2.0' currently installed).\n",
      "  warnings.warn(msg, UserWarning)\n"
     ]
    }
   ],
   "source": [
    "import pandas as pd\n",
    "import numpy as np\n",
    "import matplotlib.pyplot as plt\n",
    "from sklearn import linear_model\n",
    "from sklearn.model_selection import train_test_split\n",
    "from sklearn.preprocessing import MinMaxScaler\n",
    "from category_encoders import TargetEncoder"
   ]
  },
  {
   "cell_type": "code",
   "execution_count": 2,
   "metadata": {
    "collapsed": true
   },
   "outputs": [],
   "source": [
    "#training_df = pd.read_csv(\"./tcd ml 2019-20 income prediction training (with labels).csv/tcd ml 2019-20 income prediction training (with labels).csv\")\n",
    "training_df = pd.read_csv(\"./tcdml1920-income-ind/tcd ml 2019-20 income prediction training (with labels).csv\")"
   ]
  },
  {
   "cell_type": "code",
   "execution_count": 3,
   "metadata": {
    "collapsed": true
   },
   "outputs": [],
   "source": [
    "#test_df = pd.read_csv(\"./tcd ml 2019-20 income prediction test (without labels).csv/tcd ml 2019-20 income prediction test (without labels).csv\")\n",
    "test_df = pd.read_csv(\"./tcdml1920-income-ind/tcd ml 2019-20 income prediction test (without labels).csv\")"
   ]
  },
  {
   "cell_type": "code",
   "execution_count": 4,
   "metadata": {},
   "outputs": [
    {
     "data": {
      "text/plain": [
       "(111993, 12)"
      ]
     },
     "execution_count": 4,
     "metadata": {},
     "output_type": "execute_result"
    }
   ],
   "source": [
    "training_df.shape"
   ]
  },
  {
   "cell_type": "code",
   "execution_count": 5,
   "metadata": {},
   "outputs": [
    {
     "data": {
      "text/plain": [
       "(73230, 12)"
      ]
     },
     "execution_count": 5,
     "metadata": {},
     "output_type": "execute_result"
    }
   ],
   "source": [
    "test_df.shape"
   ]
  },
  {
   "cell_type": "code",
   "execution_count": 6,
   "metadata": {},
   "outputs": [
    {
     "data": {
      "text/html": [
       "<div>\n",
       "<style scoped>\n",
       "    .dataframe tbody tr th:only-of-type {\n",
       "        vertical-align: middle;\n",
       "    }\n",
       "\n",
       "    .dataframe tbody tr th {\n",
       "        vertical-align: top;\n",
       "    }\n",
       "\n",
       "    .dataframe thead th {\n",
       "        text-align: right;\n",
       "    }\n",
       "</style>\n",
       "<table border=\"1\" class=\"dataframe\">\n",
       "  <thead>\n",
       "    <tr style=\"text-align: right;\">\n",
       "      <th></th>\n",
       "      <th>Instance</th>\n",
       "      <th>Year of Record</th>\n",
       "      <th>Gender</th>\n",
       "      <th>Age</th>\n",
       "      <th>Country</th>\n",
       "      <th>Size of City</th>\n",
       "      <th>Profession</th>\n",
       "      <th>University Degree</th>\n",
       "      <th>Wears Glasses</th>\n",
       "      <th>Hair Color</th>\n",
       "      <th>Body Height [cm]</th>\n",
       "      <th>Income in EUR</th>\n",
       "    </tr>\n",
       "  </thead>\n",
       "  <tbody>\n",
       "    <tr>\n",
       "      <td>0</td>\n",
       "      <td>1</td>\n",
       "      <td>1997.0</td>\n",
       "      <td>0</td>\n",
       "      <td>41.0</td>\n",
       "      <td>Belarus</td>\n",
       "      <td>1239930</td>\n",
       "      <td>steel workers</td>\n",
       "      <td>Bachelor</td>\n",
       "      <td>0</td>\n",
       "      <td>Blond</td>\n",
       "      <td>193</td>\n",
       "      <td>61031.94416</td>\n",
       "    </tr>\n",
       "    <tr>\n",
       "      <td>1</td>\n",
       "      <td>2</td>\n",
       "      <td>1996.0</td>\n",
       "      <td>other</td>\n",
       "      <td>41.0</td>\n",
       "      <td>Singapore</td>\n",
       "      <td>1603504</td>\n",
       "      <td>safe event coordinator</td>\n",
       "      <td>Master</td>\n",
       "      <td>0</td>\n",
       "      <td>Black</td>\n",
       "      <td>186</td>\n",
       "      <td>91001.32764</td>\n",
       "    </tr>\n",
       "    <tr>\n",
       "      <td>2</td>\n",
       "      <td>3</td>\n",
       "      <td>2018.0</td>\n",
       "      <td>other</td>\n",
       "      <td>28.0</td>\n",
       "      <td>Norway</td>\n",
       "      <td>1298017</td>\n",
       "      <td>receivables/payables analyst</td>\n",
       "      <td>PhD</td>\n",
       "      <td>1</td>\n",
       "      <td>Brown</td>\n",
       "      <td>170</td>\n",
       "      <td>157982.17670</td>\n",
       "    </tr>\n",
       "    <tr>\n",
       "      <td>3</td>\n",
       "      <td>4</td>\n",
       "      <td>2006.0</td>\n",
       "      <td>other</td>\n",
       "      <td>33.0</td>\n",
       "      <td>Cuba</td>\n",
       "      <td>751903</td>\n",
       "      <td>fleet assistant</td>\n",
       "      <td>No</td>\n",
       "      <td>1</td>\n",
       "      <td>Black</td>\n",
       "      <td>171</td>\n",
       "      <td>45993.75793</td>\n",
       "    </tr>\n",
       "    <tr>\n",
       "      <td>4</td>\n",
       "      <td>5</td>\n",
       "      <td>2010.0</td>\n",
       "      <td>female</td>\n",
       "      <td>46.0</td>\n",
       "      <td>United Arab Emirates</td>\n",
       "      <td>95389</td>\n",
       "      <td>lead trainer</td>\n",
       "      <td>0</td>\n",
       "      <td>0</td>\n",
       "      <td>Blond</td>\n",
       "      <td>188</td>\n",
       "      <td>38022.16217</td>\n",
       "    </tr>\n",
       "  </tbody>\n",
       "</table>\n",
       "</div>"
      ],
      "text/plain": [
       "   Instance  Year of Record  Gender   Age               Country  Size of City  \\\n",
       "0         1          1997.0       0  41.0               Belarus       1239930   \n",
       "1         2          1996.0   other  41.0             Singapore       1603504   \n",
       "2         3          2018.0   other  28.0                Norway       1298017   \n",
       "3         4          2006.0   other  33.0                  Cuba        751903   \n",
       "4         5          2010.0  female  46.0  United Arab Emirates         95389   \n",
       "\n",
       "                     Profession University Degree  Wears Glasses Hair Color  \\\n",
       "0                 steel workers          Bachelor              0      Blond   \n",
       "1        safe event coordinator            Master              0      Black   \n",
       "2  receivables/payables analyst               PhD              1      Brown   \n",
       "3               fleet assistant                No              1      Black   \n",
       "4                  lead trainer                 0              0      Blond   \n",
       "\n",
       "   Body Height [cm]  Income in EUR  \n",
       "0               193    61031.94416  \n",
       "1               186    91001.32764  \n",
       "2               170   157982.17670  \n",
       "3               171    45993.75793  \n",
       "4               188    38022.16217  "
      ]
     },
     "execution_count": 6,
     "metadata": {},
     "output_type": "execute_result"
    }
   ],
   "source": [
    "training_df.head()"
   ]
  },
  {
   "cell_type": "code",
   "execution_count": 7,
   "metadata": {},
   "outputs": [
    {
     "data": {
      "text/html": [
       "<div>\n",
       "<style scoped>\n",
       "    .dataframe tbody tr th:only-of-type {\n",
       "        vertical-align: middle;\n",
       "    }\n",
       "\n",
       "    .dataframe tbody tr th {\n",
       "        vertical-align: top;\n",
       "    }\n",
       "\n",
       "    .dataframe thead th {\n",
       "        text-align: right;\n",
       "    }\n",
       "</style>\n",
       "<table border=\"1\" class=\"dataframe\">\n",
       "  <thead>\n",
       "    <tr style=\"text-align: right;\">\n",
       "      <th></th>\n",
       "      <th>Instance</th>\n",
       "      <th>Year of Record</th>\n",
       "      <th>Gender</th>\n",
       "      <th>Age</th>\n",
       "      <th>Country</th>\n",
       "      <th>Size of City</th>\n",
       "      <th>Profession</th>\n",
       "      <th>University Degree</th>\n",
       "      <th>Wears Glasses</th>\n",
       "      <th>Hair Color</th>\n",
       "      <th>Body Height [cm]</th>\n",
       "      <th>Income</th>\n",
       "    </tr>\n",
       "  </thead>\n",
       "  <tbody>\n",
       "    <tr>\n",
       "      <td>0</td>\n",
       "      <td>111994</td>\n",
       "      <td>1992.0</td>\n",
       "      <td>other</td>\n",
       "      <td>21.0</td>\n",
       "      <td>Honduras</td>\n",
       "      <td>391652</td>\n",
       "      <td>senior project analyst</td>\n",
       "      <td>Master</td>\n",
       "      <td>1</td>\n",
       "      <td>Brown</td>\n",
       "      <td>153</td>\n",
       "      <td>NaN</td>\n",
       "    </tr>\n",
       "    <tr>\n",
       "      <td>1</td>\n",
       "      <td>111995</td>\n",
       "      <td>1986.0</td>\n",
       "      <td>other</td>\n",
       "      <td>34.0</td>\n",
       "      <td>Kyrgyzstan</td>\n",
       "      <td>33653</td>\n",
       "      <td>greeter</td>\n",
       "      <td>Bachelor</td>\n",
       "      <td>0</td>\n",
       "      <td>Black</td>\n",
       "      <td>163</td>\n",
       "      <td>NaN</td>\n",
       "    </tr>\n",
       "    <tr>\n",
       "      <td>2</td>\n",
       "      <td>111996</td>\n",
       "      <td>1994.0</td>\n",
       "      <td>unknown</td>\n",
       "      <td>53.0</td>\n",
       "      <td>Portugal</td>\n",
       "      <td>34765</td>\n",
       "      <td>liaison</td>\n",
       "      <td>Bachelor</td>\n",
       "      <td>1</td>\n",
       "      <td>Blond</td>\n",
       "      <td>153</td>\n",
       "      <td>NaN</td>\n",
       "    </tr>\n",
       "    <tr>\n",
       "      <td>3</td>\n",
       "      <td>111997</td>\n",
       "      <td>1984.0</td>\n",
       "      <td>0</td>\n",
       "      <td>29.0</td>\n",
       "      <td>Uruguay</td>\n",
       "      <td>1494132</td>\n",
       "      <td>occupational therapist</td>\n",
       "      <td>No</td>\n",
       "      <td>0</td>\n",
       "      <td>Black</td>\n",
       "      <td>154</td>\n",
       "      <td>NaN</td>\n",
       "    </tr>\n",
       "    <tr>\n",
       "      <td>4</td>\n",
       "      <td>111998</td>\n",
       "      <td>2007.0</td>\n",
       "      <td>other</td>\n",
       "      <td>17.0</td>\n",
       "      <td>Serbia</td>\n",
       "      <td>120661</td>\n",
       "      <td>portfolio manager</td>\n",
       "      <td>No</td>\n",
       "      <td>0</td>\n",
       "      <td>Red</td>\n",
       "      <td>191</td>\n",
       "      <td>NaN</td>\n",
       "    </tr>\n",
       "  </tbody>\n",
       "</table>\n",
       "</div>"
      ],
      "text/plain": [
       "   Instance  Year of Record   Gender   Age     Country  Size of City  \\\n",
       "0    111994          1992.0    other  21.0    Honduras        391652   \n",
       "1    111995          1986.0    other  34.0  Kyrgyzstan         33653   \n",
       "2    111996          1994.0  unknown  53.0    Portugal         34765   \n",
       "3    111997          1984.0        0  29.0     Uruguay       1494132   \n",
       "4    111998          2007.0    other  17.0      Serbia        120661   \n",
       "\n",
       "               Profession University Degree  Wears Glasses Hair Color  \\\n",
       "0  senior project analyst            Master              1      Brown   \n",
       "1                 greeter          Bachelor              0      Black   \n",
       "2                 liaison          Bachelor              1      Blond   \n",
       "3  occupational therapist                No              0      Black   \n",
       "4       portfolio manager                No              0        Red   \n",
       "\n",
       "   Body Height [cm]  Income  \n",
       "0               153     NaN  \n",
       "1               163     NaN  \n",
       "2               153     NaN  \n",
       "3               154     NaN  \n",
       "4               191     NaN  "
      ]
     },
     "execution_count": 7,
     "metadata": {},
     "output_type": "execute_result"
    }
   ],
   "source": [
    "test_df.head()"
   ]
  },
  {
   "cell_type": "code",
   "execution_count": 8,
   "metadata": {},
   "outputs": [
    {
     "name": "stdout",
     "output_type": "stream",
     "text": [
      "<class 'pandas.core.frame.DataFrame'>\n",
      "RangeIndex: 111993 entries, 0 to 111992\n",
      "Data columns (total 12 columns):\n",
      "Instance             111993 non-null int64\n",
      "Year of Record       111552 non-null float64\n",
      "Gender               104561 non-null object\n",
      "Age                  111499 non-null float64\n",
      "Country              111993 non-null object\n",
      "Size of City         111993 non-null int64\n",
      "Profession           111671 non-null object\n",
      "University Degree    104623 non-null object\n",
      "Wears Glasses        111993 non-null int64\n",
      "Hair Color           104751 non-null object\n",
      "Body Height [cm]     111993 non-null int64\n",
      "Income in EUR        111993 non-null float64\n",
      "dtypes: float64(3), int64(4), object(5)\n",
      "memory usage: 10.3+ MB\n"
     ]
    }
   ],
   "source": [
    "training_df.info()"
   ]
  },
  {
   "cell_type": "code",
   "execution_count": 9,
   "metadata": {},
   "outputs": [
    {
     "name": "stdout",
     "output_type": "stream",
     "text": [
      "<class 'pandas.core.frame.DataFrame'>\n",
      "RangeIndex: 73230 entries, 0 to 73229\n",
      "Data columns (total 12 columns):\n",
      "Instance             73230 non-null int64\n",
      "Year of Record       72935 non-null float64\n",
      "Gender               68368 non-null object\n",
      "Age                  72951 non-null float64\n",
      "Country              73230 non-null object\n",
      "Size of City         73230 non-null int64\n",
      "Profession           73035 non-null object\n",
      "University Degree    68373 non-null object\n",
      "Wears Glasses        73230 non-null int64\n",
      "Hair Color           68314 non-null object\n",
      "Body Height [cm]     73230 non-null int64\n",
      "Income               0 non-null float64\n",
      "dtypes: float64(3), int64(4), object(5)\n",
      "memory usage: 6.7+ MB\n"
     ]
    }
   ],
   "source": [
    "test_df.info()"
   ]
  },
  {
   "cell_type": "code",
   "execution_count": 10,
   "metadata": {
    "collapsed": true
   },
   "outputs": [],
   "source": [
    "categorical_fields = [\"Gender\", \"Country\", \"Profession\", \"University Degree\"]\n",
    "numerical_fields = [\"Year of Record\", \"Age\", \"Size of City\", \"Body Height [cm]\"]\n",
    "result = [\"Income in EUR\"]"
   ]
  },
  {
   "cell_type": "code",
   "execution_count": 11,
   "metadata": {
    "collapsed": true
   },
   "outputs": [],
   "source": [
    "#Combining the two sets for better encoding (not required for target encoding - splitting later)\n",
    "training_df[\"train\"] = 1\n",
    "test_df[\"train\"] = 0"
   ]
  },
  {
   "cell_type": "code",
   "execution_count": 12,
   "metadata": {},
   "outputs": [
    {
     "name": "stderr",
     "output_type": "stream",
     "text": [
      "C:\\winpython\\WinPython-64bit-3.6.1.0Qt5\\python-3.6.1.amd64\\lib\\site-packages\\ipykernel\\__main__.py:1: FutureWarning: Sorting because non-concatenation axis is not aligned. A future version\n",
      "of pandas will change to not sort by default.\n",
      "\n",
      "To accept the future behavior, pass 'sort=False'.\n",
      "\n",
      "To retain the current behavior and silence the warning, pass 'sort=True'.\n",
      "\n",
      "  if __name__ == '__main__':\n"
     ]
    }
   ],
   "source": [
    "combined = pd.concat([training_df, test_df])"
   ]
  },
  {
   "cell_type": "code",
   "execution_count": 13,
   "metadata": {},
   "outputs": [
    {
     "data": {
      "text/plain": [
       "(185223, 14)"
      ]
     },
     "execution_count": 13,
     "metadata": {},
     "output_type": "execute_result"
    }
   ],
   "source": [
    "combined.shape"
   ]
  },
  {
   "cell_type": "markdown",
   "metadata": {},
   "source": [
    "# Feature Transformation"
   ]
  },
  {
   "cell_type": "code",
   "execution_count": 14,
   "metadata": {
    "collapsed": true
   },
   "outputs": [],
   "source": [
    "#training_df[\"Gender\"].replace('0', 'unknown', inplace = True)\n",
    "combined[\"Gender\"].replace('0', 'unknown', inplace = True)"
   ]
  },
  {
   "cell_type": "code",
   "execution_count": 15,
   "metadata": {
    "collapsed": true
   },
   "outputs": [],
   "source": [
    "#training_df[\"University Degree\"].replace('0', 'No', inplace=True)\n",
    "combined[\"University Degree\"].replace('0', 'No', inplace=True)"
   ]
  },
  {
   "cell_type": "code",
   "execution_count": 16,
   "metadata": {},
   "outputs": [
    {
     "data": {
      "text/html": [
       "<div>\n",
       "<style scoped>\n",
       "    .dataframe tbody tr th:only-of-type {\n",
       "        vertical-align: middle;\n",
       "    }\n",
       "\n",
       "    .dataframe tbody tr th {\n",
       "        vertical-align: top;\n",
       "    }\n",
       "\n",
       "    .dataframe thead th {\n",
       "        text-align: right;\n",
       "    }\n",
       "</style>\n",
       "<table border=\"1\" class=\"dataframe\">\n",
       "  <thead>\n",
       "    <tr style=\"text-align: right;\">\n",
       "      <th></th>\n",
       "      <th>Age</th>\n",
       "      <th>Body Height [cm]</th>\n",
       "      <th>Country</th>\n",
       "      <th>Gender</th>\n",
       "      <th>Hair Color</th>\n",
       "      <th>Income</th>\n",
       "      <th>Income in EUR</th>\n",
       "      <th>Instance</th>\n",
       "      <th>Profession</th>\n",
       "      <th>Size of City</th>\n",
       "      <th>University Degree</th>\n",
       "      <th>Wears Glasses</th>\n",
       "      <th>Year of Record</th>\n",
       "      <th>train</th>\n",
       "    </tr>\n",
       "  </thead>\n",
       "  <tbody>\n",
       "    <tr>\n",
       "      <td>0</td>\n",
       "      <td>41.0</td>\n",
       "      <td>193</td>\n",
       "      <td>Belarus</td>\n",
       "      <td>unknown</td>\n",
       "      <td>Blond</td>\n",
       "      <td>NaN</td>\n",
       "      <td>61031.94416</td>\n",
       "      <td>1</td>\n",
       "      <td>steel workers</td>\n",
       "      <td>1239930</td>\n",
       "      <td>Bachelor</td>\n",
       "      <td>0</td>\n",
       "      <td>1997.0</td>\n",
       "      <td>1</td>\n",
       "    </tr>\n",
       "    <tr>\n",
       "      <td>1</td>\n",
       "      <td>41.0</td>\n",
       "      <td>186</td>\n",
       "      <td>Singapore</td>\n",
       "      <td>other</td>\n",
       "      <td>Black</td>\n",
       "      <td>NaN</td>\n",
       "      <td>91001.32764</td>\n",
       "      <td>2</td>\n",
       "      <td>safe event coordinator</td>\n",
       "      <td>1603504</td>\n",
       "      <td>Master</td>\n",
       "      <td>0</td>\n",
       "      <td>1996.0</td>\n",
       "      <td>1</td>\n",
       "    </tr>\n",
       "    <tr>\n",
       "      <td>2</td>\n",
       "      <td>28.0</td>\n",
       "      <td>170</td>\n",
       "      <td>Norway</td>\n",
       "      <td>other</td>\n",
       "      <td>Brown</td>\n",
       "      <td>NaN</td>\n",
       "      <td>157982.17670</td>\n",
       "      <td>3</td>\n",
       "      <td>receivables/payables analyst</td>\n",
       "      <td>1298017</td>\n",
       "      <td>PhD</td>\n",
       "      <td>1</td>\n",
       "      <td>2018.0</td>\n",
       "      <td>1</td>\n",
       "    </tr>\n",
       "    <tr>\n",
       "      <td>3</td>\n",
       "      <td>33.0</td>\n",
       "      <td>171</td>\n",
       "      <td>Cuba</td>\n",
       "      <td>other</td>\n",
       "      <td>Black</td>\n",
       "      <td>NaN</td>\n",
       "      <td>45993.75793</td>\n",
       "      <td>4</td>\n",
       "      <td>fleet assistant</td>\n",
       "      <td>751903</td>\n",
       "      <td>No</td>\n",
       "      <td>1</td>\n",
       "      <td>2006.0</td>\n",
       "      <td>1</td>\n",
       "    </tr>\n",
       "    <tr>\n",
       "      <td>4</td>\n",
       "      <td>46.0</td>\n",
       "      <td>188</td>\n",
       "      <td>United Arab Emirates</td>\n",
       "      <td>female</td>\n",
       "      <td>Blond</td>\n",
       "      <td>NaN</td>\n",
       "      <td>38022.16217</td>\n",
       "      <td>5</td>\n",
       "      <td>lead trainer</td>\n",
       "      <td>95389</td>\n",
       "      <td>No</td>\n",
       "      <td>0</td>\n",
       "      <td>2010.0</td>\n",
       "      <td>1</td>\n",
       "    </tr>\n",
       "  </tbody>\n",
       "</table>\n",
       "</div>"
      ],
      "text/plain": [
       "    Age  Body Height [cm]               Country   Gender Hair Color  Income  \\\n",
       "0  41.0               193               Belarus  unknown      Blond     NaN   \n",
       "1  41.0               186             Singapore    other      Black     NaN   \n",
       "2  28.0               170                Norway    other      Brown     NaN   \n",
       "3  33.0               171                  Cuba    other      Black     NaN   \n",
       "4  46.0               188  United Arab Emirates   female      Blond     NaN   \n",
       "\n",
       "   Income in EUR  Instance                    Profession  Size of City  \\\n",
       "0    61031.94416         1                 steel workers       1239930   \n",
       "1    91001.32764         2        safe event coordinator       1603504   \n",
       "2   157982.17670         3  receivables/payables analyst       1298017   \n",
       "3    45993.75793         4               fleet assistant        751903   \n",
       "4    38022.16217         5                  lead trainer         95389   \n",
       "\n",
       "  University Degree  Wears Glasses  Year of Record  train  \n",
       "0          Bachelor              0          1997.0      1  \n",
       "1            Master              0          1996.0      1  \n",
       "2               PhD              1          2018.0      1  \n",
       "3                No              1          2006.0      1  \n",
       "4                No              0          2010.0      1  "
      ]
     },
     "execution_count": 16,
     "metadata": {},
     "output_type": "execute_result"
    }
   ],
   "source": [
    "#training_df.head()\n",
    "combined.head()"
   ]
  },
  {
   "cell_type": "markdown",
   "metadata": {},
   "source": [
    "# Handling Missing Values"
   ]
  },
  {
   "cell_type": "code",
   "execution_count": 17,
   "metadata": {
    "collapsed": true
   },
   "outputs": [],
   "source": [
    "for field in categorical_fields:\n",
    "    #training_df[field].fillna('unknown', inplace=True)\n",
    "    combined[field].fillna('unknown', inplace=True)"
   ]
  },
  {
   "cell_type": "code",
   "execution_count": 18,
   "metadata": {
    "collapsed": true
   },
   "outputs": [],
   "source": [
    "for field in numerical_fields:\n",
    "    #training_df[field].fillna(training_df[field].mean(), inplace=True)\n",
    "    combined[field].fillna(combined[field].mean(), inplace=True)"
   ]
  },
  {
   "cell_type": "code",
   "execution_count": 19,
   "metadata": {},
   "outputs": [
    {
     "data": {
      "text/html": [
       "<div>\n",
       "<style scoped>\n",
       "    .dataframe tbody tr th:only-of-type {\n",
       "        vertical-align: middle;\n",
       "    }\n",
       "\n",
       "    .dataframe tbody tr th {\n",
       "        vertical-align: top;\n",
       "    }\n",
       "\n",
       "    .dataframe thead th {\n",
       "        text-align: right;\n",
       "    }\n",
       "</style>\n",
       "<table border=\"1\" class=\"dataframe\">\n",
       "  <thead>\n",
       "    <tr style=\"text-align: right;\">\n",
       "      <th></th>\n",
       "      <th>Age</th>\n",
       "      <th>Body Height [cm]</th>\n",
       "      <th>Country</th>\n",
       "      <th>Gender</th>\n",
       "      <th>Income</th>\n",
       "      <th>Income in EUR</th>\n",
       "      <th>Instance</th>\n",
       "      <th>Profession</th>\n",
       "      <th>Size of City</th>\n",
       "      <th>University Degree</th>\n",
       "      <th>Year of Record</th>\n",
       "      <th>train</th>\n",
       "    </tr>\n",
       "  </thead>\n",
       "  <tbody>\n",
       "    <tr>\n",
       "      <td>0</td>\n",
       "      <td>41.0</td>\n",
       "      <td>193</td>\n",
       "      <td>Belarus</td>\n",
       "      <td>unknown</td>\n",
       "      <td>NaN</td>\n",
       "      <td>61031.94416</td>\n",
       "      <td>1</td>\n",
       "      <td>steel workers</td>\n",
       "      <td>1239930</td>\n",
       "      <td>Bachelor</td>\n",
       "      <td>1997.0</td>\n",
       "      <td>1</td>\n",
       "    </tr>\n",
       "    <tr>\n",
       "      <td>1</td>\n",
       "      <td>41.0</td>\n",
       "      <td>186</td>\n",
       "      <td>Singapore</td>\n",
       "      <td>other</td>\n",
       "      <td>NaN</td>\n",
       "      <td>91001.32764</td>\n",
       "      <td>2</td>\n",
       "      <td>safe event coordinator</td>\n",
       "      <td>1603504</td>\n",
       "      <td>Master</td>\n",
       "      <td>1996.0</td>\n",
       "      <td>1</td>\n",
       "    </tr>\n",
       "    <tr>\n",
       "      <td>2</td>\n",
       "      <td>28.0</td>\n",
       "      <td>170</td>\n",
       "      <td>Norway</td>\n",
       "      <td>other</td>\n",
       "      <td>NaN</td>\n",
       "      <td>157982.17670</td>\n",
       "      <td>3</td>\n",
       "      <td>receivables/payables analyst</td>\n",
       "      <td>1298017</td>\n",
       "      <td>PhD</td>\n",
       "      <td>2018.0</td>\n",
       "      <td>1</td>\n",
       "    </tr>\n",
       "    <tr>\n",
       "      <td>3</td>\n",
       "      <td>33.0</td>\n",
       "      <td>171</td>\n",
       "      <td>Cuba</td>\n",
       "      <td>other</td>\n",
       "      <td>NaN</td>\n",
       "      <td>45993.75793</td>\n",
       "      <td>4</td>\n",
       "      <td>fleet assistant</td>\n",
       "      <td>751903</td>\n",
       "      <td>No</td>\n",
       "      <td>2006.0</td>\n",
       "      <td>1</td>\n",
       "    </tr>\n",
       "    <tr>\n",
       "      <td>4</td>\n",
       "      <td>46.0</td>\n",
       "      <td>188</td>\n",
       "      <td>United Arab Emirates</td>\n",
       "      <td>female</td>\n",
       "      <td>NaN</td>\n",
       "      <td>38022.16217</td>\n",
       "      <td>5</td>\n",
       "      <td>lead trainer</td>\n",
       "      <td>95389</td>\n",
       "      <td>No</td>\n",
       "      <td>2010.0</td>\n",
       "      <td>1</td>\n",
       "    </tr>\n",
       "  </tbody>\n",
       "</table>\n",
       "</div>"
      ],
      "text/plain": [
       "    Age  Body Height [cm]               Country   Gender  Income  \\\n",
       "0  41.0               193               Belarus  unknown     NaN   \n",
       "1  41.0               186             Singapore    other     NaN   \n",
       "2  28.0               170                Norway    other     NaN   \n",
       "3  33.0               171                  Cuba    other     NaN   \n",
       "4  46.0               188  United Arab Emirates   female     NaN   \n",
       "\n",
       "   Income in EUR  Instance                    Profession  Size of City  \\\n",
       "0    61031.94416         1                 steel workers       1239930   \n",
       "1    91001.32764         2        safe event coordinator       1603504   \n",
       "2   157982.17670         3  receivables/payables analyst       1298017   \n",
       "3    45993.75793         4               fleet assistant        751903   \n",
       "4    38022.16217         5                  lead trainer         95389   \n",
       "\n",
       "  University Degree  Year of Record  train  \n",
       "0          Bachelor          1997.0      1  \n",
       "1            Master          1996.0      1  \n",
       "2               PhD          2018.0      1  \n",
       "3                No          2006.0      1  \n",
       "4                No          2010.0      1  "
      ]
     },
     "execution_count": 19,
     "metadata": {},
     "output_type": "execute_result"
    }
   ],
   "source": [
    "combined.drop(['Wears Glasses', 'Hair Color'], axis=1, inplace=True)\n",
    "combined.head()"
   ]
  },
  {
   "cell_type": "code",
   "execution_count": 20,
   "metadata": {},
   "outputs": [
    {
     "name": "stdout",
     "output_type": "stream",
     "text": [
      "<class 'pandas.core.frame.DataFrame'>\n",
      "Int64Index: 185223 entries, 0 to 73229\n",
      "Data columns (total 12 columns):\n",
      "Age                  185223 non-null float64\n",
      "Body Height [cm]     185223 non-null int64\n",
      "Country              185223 non-null object\n",
      "Gender               185223 non-null object\n",
      "Income               0 non-null float64\n",
      "Income in EUR        111993 non-null float64\n",
      "Instance             185223 non-null int64\n",
      "Profession           185223 non-null object\n",
      "Size of City         185223 non-null int64\n",
      "University Degree    185223 non-null object\n",
      "Year of Record       185223 non-null float64\n",
      "train                185223 non-null int64\n",
      "dtypes: float64(4), int64(4), object(4)\n",
      "memory usage: 18.4+ MB\n"
     ]
    }
   ],
   "source": [
    "combined.info()"
   ]
  },
  {
   "cell_type": "markdown",
   "metadata": {},
   "source": [
    "# MinMax Scaling"
   ]
  },
  {
   "cell_type": "code",
   "execution_count": 21,
   "metadata": {
    "collapsed": true
   },
   "outputs": [],
   "source": [
    "scaler = MinMaxScaler()"
   ]
  },
  {
   "cell_type": "code",
   "execution_count": 22,
   "metadata": {
    "collapsed": true
   },
   "outputs": [],
   "source": [
    "combined[numerical_fields] = scaler.fit_transform(combined[numerical_fields])"
   ]
  },
  {
   "cell_type": "code",
   "execution_count": 23,
   "metadata": {},
   "outputs": [
    {
     "data": {
      "text/html": [
       "<div>\n",
       "<style scoped>\n",
       "    .dataframe tbody tr th:only-of-type {\n",
       "        vertical-align: middle;\n",
       "    }\n",
       "\n",
       "    .dataframe tbody tr th {\n",
       "        vertical-align: top;\n",
       "    }\n",
       "\n",
       "    .dataframe thead th {\n",
       "        text-align: right;\n",
       "    }\n",
       "</style>\n",
       "<table border=\"1\" class=\"dataframe\">\n",
       "  <thead>\n",
       "    <tr style=\"text-align: right;\">\n",
       "      <th></th>\n",
       "      <th>Age</th>\n",
       "      <th>Body Height [cm]</th>\n",
       "      <th>Country</th>\n",
       "      <th>Gender</th>\n",
       "      <th>Income</th>\n",
       "      <th>Income in EUR</th>\n",
       "      <th>Instance</th>\n",
       "      <th>Profession</th>\n",
       "      <th>Size of City</th>\n",
       "      <th>University Degree</th>\n",
       "      <th>Year of Record</th>\n",
       "      <th>train</th>\n",
       "    </tr>\n",
       "  </thead>\n",
       "  <tbody>\n",
       "    <tr>\n",
       "      <td>0</td>\n",
       "      <td>0.241071</td>\n",
       "      <td>0.578947</td>\n",
       "      <td>Belarus</td>\n",
       "      <td>unknown</td>\n",
       "      <td>NaN</td>\n",
       "      <td>61031.94416</td>\n",
       "      <td>1</td>\n",
       "      <td>steel workers</td>\n",
       "      <td>0.024801</td>\n",
       "      <td>Bachelor</td>\n",
       "      <td>0.435897</td>\n",
       "      <td>1</td>\n",
       "    </tr>\n",
       "    <tr>\n",
       "      <td>1</td>\n",
       "      <td>0.241071</td>\n",
       "      <td>0.538012</td>\n",
       "      <td>Singapore</td>\n",
       "      <td>other</td>\n",
       "      <td>NaN</td>\n",
       "      <td>91001.32764</td>\n",
       "      <td>2</td>\n",
       "      <td>safe event coordinator</td>\n",
       "      <td>0.032073</td>\n",
       "      <td>Master</td>\n",
       "      <td>0.410256</td>\n",
       "      <td>1</td>\n",
       "    </tr>\n",
       "    <tr>\n",
       "      <td>2</td>\n",
       "      <td>0.125000</td>\n",
       "      <td>0.444444</td>\n",
       "      <td>Norway</td>\n",
       "      <td>other</td>\n",
       "      <td>NaN</td>\n",
       "      <td>157982.17670</td>\n",
       "      <td>3</td>\n",
       "      <td>receivables/payables analyst</td>\n",
       "      <td>0.025963</td>\n",
       "      <td>PhD</td>\n",
       "      <td>0.974359</td>\n",
       "      <td>1</td>\n",
       "    </tr>\n",
       "    <tr>\n",
       "      <td>3</td>\n",
       "      <td>0.169643</td>\n",
       "      <td>0.450292</td>\n",
       "      <td>Cuba</td>\n",
       "      <td>other</td>\n",
       "      <td>NaN</td>\n",
       "      <td>45993.75793</td>\n",
       "      <td>4</td>\n",
       "      <td>fleet assistant</td>\n",
       "      <td>0.015039</td>\n",
       "      <td>No</td>\n",
       "      <td>0.666667</td>\n",
       "      <td>1</td>\n",
       "    </tr>\n",
       "    <tr>\n",
       "      <td>4</td>\n",
       "      <td>0.285714</td>\n",
       "      <td>0.549708</td>\n",
       "      <td>United Arab Emirates</td>\n",
       "      <td>female</td>\n",
       "      <td>NaN</td>\n",
       "      <td>38022.16217</td>\n",
       "      <td>5</td>\n",
       "      <td>lead trainer</td>\n",
       "      <td>0.001907</td>\n",
       "      <td>No</td>\n",
       "      <td>0.769231</td>\n",
       "      <td>1</td>\n",
       "    </tr>\n",
       "  </tbody>\n",
       "</table>\n",
       "</div>"
      ],
      "text/plain": [
       "        Age  Body Height [cm]               Country   Gender  Income  \\\n",
       "0  0.241071          0.578947               Belarus  unknown     NaN   \n",
       "1  0.241071          0.538012             Singapore    other     NaN   \n",
       "2  0.125000          0.444444                Norway    other     NaN   \n",
       "3  0.169643          0.450292                  Cuba    other     NaN   \n",
       "4  0.285714          0.549708  United Arab Emirates   female     NaN   \n",
       "\n",
       "   Income in EUR  Instance                    Profession  Size of City  \\\n",
       "0    61031.94416         1                 steel workers      0.024801   \n",
       "1    91001.32764         2        safe event coordinator      0.032073   \n",
       "2   157982.17670         3  receivables/payables analyst      0.025963   \n",
       "3    45993.75793         4               fleet assistant      0.015039   \n",
       "4    38022.16217         5                  lead trainer      0.001907   \n",
       "\n",
       "  University Degree  Year of Record  train  \n",
       "0          Bachelor        0.435897      1  \n",
       "1            Master        0.410256      1  \n",
       "2               PhD        0.974359      1  \n",
       "3                No        0.666667      1  \n",
       "4                No        0.769231      1  "
      ]
     },
     "execution_count": 23,
     "metadata": {},
     "output_type": "execute_result"
    }
   ],
   "source": [
    "combined.head()"
   ]
  },
  {
   "cell_type": "code",
   "execution_count": 24,
   "metadata": {
    "collapsed": true
   },
   "outputs": [],
   "source": [
    "result_scaler = MinMaxScaler()"
   ]
  },
  {
   "cell_type": "code",
   "execution_count": 25,
   "metadata": {},
   "outputs": [
    {
     "name": "stderr",
     "output_type": "stream",
     "text": [
      "C:\\winpython\\WinPython-64bit-3.6.1.0Qt5\\python-3.6.1.amd64\\lib\\site-packages\\pandas\\core\\frame.py:4102: SettingWithCopyWarning: \n",
      "A value is trying to be set on a copy of a slice from a DataFrame\n",
      "\n",
      "See the caveats in the documentation: http://pandas.pydata.org/pandas-docs/stable/user_guide/indexing.html#returning-a-view-versus-a-copy\n",
      "  errors=errors,\n"
     ]
    }
   ],
   "source": [
    "training_df = combined[combined[\"train\"] == 1]\n",
    "test_df = combined[combined[\"train\"] == 0]\n",
    "training_df.drop([\"train\", \"Income\"], axis=1, inplace=True)\n",
    "test_df.drop([\"train\", \"Income in EUR\"], axis=1, inplace=True)"
   ]
  },
  {
   "cell_type": "code",
   "execution_count": 26,
   "metadata": {},
   "outputs": [
    {
     "data": {
      "text/plain": [
       "(111993, 10)"
      ]
     },
     "execution_count": 26,
     "metadata": {},
     "output_type": "execute_result"
    }
   ],
   "source": [
    "training_df.shape"
   ]
  },
  {
   "cell_type": "code",
   "execution_count": 27,
   "metadata": {},
   "outputs": [
    {
     "data": {
      "text/plain": [
       "(73230, 10)"
      ]
     },
     "execution_count": 27,
     "metadata": {},
     "output_type": "execute_result"
    }
   ],
   "source": [
    "test_df.shape"
   ]
  },
  {
   "cell_type": "code",
   "execution_count": 28,
   "metadata": {},
   "outputs": [
    {
     "name": "stderr",
     "output_type": "stream",
     "text": [
      "C:\\winpython\\WinPython-64bit-3.6.1.0Qt5\\python-3.6.1.amd64\\lib\\site-packages\\ipykernel\\__main__.py:1: SettingWithCopyWarning: \n",
      "A value is trying to be set on a copy of a slice from a DataFrame.\n",
      "Try using .loc[row_indexer,col_indexer] = value instead\n",
      "\n",
      "See the caveats in the documentation: http://pandas.pydata.org/pandas-docs/stable/user_guide/indexing.html#returning-a-view-versus-a-copy\n",
      "  if __name__ == '__main__':\n",
      "C:\\winpython\\WinPython-64bit-3.6.1.0Qt5\\python-3.6.1.amd64\\lib\\site-packages\\pandas\\core\\indexing.py:494: SettingWithCopyWarning: \n",
      "A value is trying to be set on a copy of a slice from a DataFrame.\n",
      "Try using .loc[row_indexer,col_indexer] = value instead\n",
      "\n",
      "See the caveats in the documentation: http://pandas.pydata.org/pandas-docs/stable/user_guide/indexing.html#returning-a-view-versus-a-copy\n",
      "  self.obj[item] = s\n"
     ]
    }
   ],
   "source": [
    "training_df[result] = result_scaler.fit_transform(training_df[result])"
   ]
  },
  {
   "cell_type": "code",
   "execution_count": 29,
   "metadata": {},
   "outputs": [
    {
     "data": {
      "text/html": [
       "<div>\n",
       "<style scoped>\n",
       "    .dataframe tbody tr th:only-of-type {\n",
       "        vertical-align: middle;\n",
       "    }\n",
       "\n",
       "    .dataframe tbody tr th {\n",
       "        vertical-align: top;\n",
       "    }\n",
       "\n",
       "    .dataframe thead th {\n",
       "        text-align: right;\n",
       "    }\n",
       "</style>\n",
       "<table border=\"1\" class=\"dataframe\">\n",
       "  <thead>\n",
       "    <tr style=\"text-align: right;\">\n",
       "      <th></th>\n",
       "      <th>Income in EUR</th>\n",
       "    </tr>\n",
       "  </thead>\n",
       "  <tbody>\n",
       "    <tr>\n",
       "      <td>0</td>\n",
       "      <td>0.012612</td>\n",
       "    </tr>\n",
       "    <tr>\n",
       "      <td>1</td>\n",
       "      <td>0.018276</td>\n",
       "    </tr>\n",
       "    <tr>\n",
       "      <td>2</td>\n",
       "      <td>0.030936</td>\n",
       "    </tr>\n",
       "    <tr>\n",
       "      <td>3</td>\n",
       "      <td>0.009770</td>\n",
       "    </tr>\n",
       "    <tr>\n",
       "      <td>4</td>\n",
       "      <td>0.008263</td>\n",
       "    </tr>\n",
       "  </tbody>\n",
       "</table>\n",
       "</div>"
      ],
      "text/plain": [
       "   Income in EUR\n",
       "0       0.012612\n",
       "1       0.018276\n",
       "2       0.030936\n",
       "3       0.009770\n",
       "4       0.008263"
      ]
     },
     "execution_count": 29,
     "metadata": {},
     "output_type": "execute_result"
    }
   ],
   "source": [
    "training_df[result].head()"
   ]
  },
  {
   "cell_type": "code",
   "execution_count": 30,
   "metadata": {},
   "outputs": [
    {
     "data": {
      "text/html": [
       "<div>\n",
       "<style scoped>\n",
       "    .dataframe tbody tr th:only-of-type {\n",
       "        vertical-align: middle;\n",
       "    }\n",
       "\n",
       "    .dataframe tbody tr th {\n",
       "        vertical-align: top;\n",
       "    }\n",
       "\n",
       "    .dataframe thead th {\n",
       "        text-align: right;\n",
       "    }\n",
       "</style>\n",
       "<table border=\"1\" class=\"dataframe\">\n",
       "  <thead>\n",
       "    <tr style=\"text-align: right;\">\n",
       "      <th></th>\n",
       "      <th>Age</th>\n",
       "      <th>Body Height [cm]</th>\n",
       "      <th>Country</th>\n",
       "      <th>Gender</th>\n",
       "      <th>Income in EUR</th>\n",
       "      <th>Instance</th>\n",
       "      <th>Profession</th>\n",
       "      <th>Size of City</th>\n",
       "      <th>University Degree</th>\n",
       "      <th>Year of Record</th>\n",
       "    </tr>\n",
       "  </thead>\n",
       "  <tbody>\n",
       "    <tr>\n",
       "      <td>0</td>\n",
       "      <td>0.241071</td>\n",
       "      <td>0.578947</td>\n",
       "      <td>Belarus</td>\n",
       "      <td>unknown</td>\n",
       "      <td>0.012612</td>\n",
       "      <td>1</td>\n",
       "      <td>steel workers</td>\n",
       "      <td>0.024801</td>\n",
       "      <td>Bachelor</td>\n",
       "      <td>0.435897</td>\n",
       "    </tr>\n",
       "    <tr>\n",
       "      <td>1</td>\n",
       "      <td>0.241071</td>\n",
       "      <td>0.538012</td>\n",
       "      <td>Singapore</td>\n",
       "      <td>other</td>\n",
       "      <td>0.018276</td>\n",
       "      <td>2</td>\n",
       "      <td>safe event coordinator</td>\n",
       "      <td>0.032073</td>\n",
       "      <td>Master</td>\n",
       "      <td>0.410256</td>\n",
       "    </tr>\n",
       "    <tr>\n",
       "      <td>2</td>\n",
       "      <td>0.125000</td>\n",
       "      <td>0.444444</td>\n",
       "      <td>Norway</td>\n",
       "      <td>other</td>\n",
       "      <td>0.030936</td>\n",
       "      <td>3</td>\n",
       "      <td>receivables/payables analyst</td>\n",
       "      <td>0.025963</td>\n",
       "      <td>PhD</td>\n",
       "      <td>0.974359</td>\n",
       "    </tr>\n",
       "    <tr>\n",
       "      <td>3</td>\n",
       "      <td>0.169643</td>\n",
       "      <td>0.450292</td>\n",
       "      <td>Cuba</td>\n",
       "      <td>other</td>\n",
       "      <td>0.009770</td>\n",
       "      <td>4</td>\n",
       "      <td>fleet assistant</td>\n",
       "      <td>0.015039</td>\n",
       "      <td>No</td>\n",
       "      <td>0.666667</td>\n",
       "    </tr>\n",
       "    <tr>\n",
       "      <td>4</td>\n",
       "      <td>0.285714</td>\n",
       "      <td>0.549708</td>\n",
       "      <td>United Arab Emirates</td>\n",
       "      <td>female</td>\n",
       "      <td>0.008263</td>\n",
       "      <td>5</td>\n",
       "      <td>lead trainer</td>\n",
       "      <td>0.001907</td>\n",
       "      <td>No</td>\n",
       "      <td>0.769231</td>\n",
       "    </tr>\n",
       "  </tbody>\n",
       "</table>\n",
       "</div>"
      ],
      "text/plain": [
       "        Age  Body Height [cm]               Country   Gender  Income in EUR  \\\n",
       "0  0.241071          0.578947               Belarus  unknown       0.012612   \n",
       "1  0.241071          0.538012             Singapore    other       0.018276   \n",
       "2  0.125000          0.444444                Norway    other       0.030936   \n",
       "3  0.169643          0.450292                  Cuba    other       0.009770   \n",
       "4  0.285714          0.549708  United Arab Emirates   female       0.008263   \n",
       "\n",
       "   Instance                    Profession  Size of City University Degree  \\\n",
       "0         1                 steel workers      0.024801          Bachelor   \n",
       "1         2        safe event coordinator      0.032073            Master   \n",
       "2         3  receivables/payables analyst      0.025963               PhD   \n",
       "3         4               fleet assistant      0.015039                No   \n",
       "4         5                  lead trainer      0.001907                No   \n",
       "\n",
       "   Year of Record  \n",
       "0        0.435897  \n",
       "1        0.410256  \n",
       "2        0.974359  \n",
       "3        0.666667  \n",
       "4        0.769231  "
      ]
     },
     "execution_count": 30,
     "metadata": {},
     "output_type": "execute_result"
    }
   ],
   "source": [
    "training_df.head()"
   ]
  },
  {
   "cell_type": "markdown",
   "metadata": {},
   "source": [
    "# Splitting data into training and validation sets"
   ]
  },
  {
   "cell_type": "code",
   "execution_count": 31,
   "metadata": {
    "collapsed": true
   },
   "outputs": [],
   "source": [
    "training_indices, validation_indices = train_test_split(training_df.index, test_size = 0.20)"
   ]
  },
  {
   "cell_type": "code",
   "execution_count": 32,
   "metadata": {},
   "outputs": [
    {
     "name": "stderr",
     "output_type": "stream",
     "text": [
      "C:\\winpython\\WinPython-64bit-3.6.1.0Qt5\\python-3.6.1.amd64\\lib\\site-packages\\pandas\\core\\frame.py:4102: SettingWithCopyWarning: \n",
      "A value is trying to be set on a copy of a slice from a DataFrame\n",
      "\n",
      "See the caveats in the documentation: http://pandas.pydata.org/pandas-docs/stable/user_guide/indexing.html#returning-a-view-versus-a-copy\n",
      "  errors=errors,\n"
     ]
    }
   ],
   "source": [
    "X_train = training_df.iloc[training_indices]\n",
    "X_train.drop(X_train[result], axis=1, inplace=True)\n",
    "X_validation = training_df.iloc[validation_indices]\n",
    "X_validation.drop(X_validation[result], axis=1, inplace=True)"
   ]
  },
  {
   "cell_type": "code",
   "execution_count": 33,
   "metadata": {
    "collapsed": true
   },
   "outputs": [],
   "source": [
    "y_train = training_df[result].iloc[training_indices]\n",
    "y_validation = training_df[result].iloc[validation_indices]"
   ]
  },
  {
   "cell_type": "code",
   "execution_count": 34,
   "metadata": {},
   "outputs": [
    {
     "data": {
      "text/plain": [
       "(89594, 9)"
      ]
     },
     "execution_count": 34,
     "metadata": {},
     "output_type": "execute_result"
    }
   ],
   "source": [
    "X_train.shape"
   ]
  },
  {
   "cell_type": "code",
   "execution_count": 35,
   "metadata": {},
   "outputs": [
    {
     "data": {
      "text/plain": [
       "(22399, 9)"
      ]
     },
     "execution_count": 35,
     "metadata": {},
     "output_type": "execute_result"
    }
   ],
   "source": [
    "X_validation.shape"
   ]
  },
  {
   "cell_type": "code",
   "execution_count": 36,
   "metadata": {},
   "outputs": [
    {
     "data": {
      "text/plain": [
       "(89594, 1)"
      ]
     },
     "execution_count": 36,
     "metadata": {},
     "output_type": "execute_result"
    }
   ],
   "source": [
    "y_train.shape"
   ]
  },
  {
   "cell_type": "code",
   "execution_count": 37,
   "metadata": {},
   "outputs": [
    {
     "data": {
      "text/plain": [
       "(22399, 1)"
      ]
     },
     "execution_count": 37,
     "metadata": {},
     "output_type": "execute_result"
    }
   ],
   "source": [
    "y_validation.shape"
   ]
  },
  {
   "cell_type": "code",
   "execution_count": null,
   "metadata": {
    "collapsed": true
   },
   "outputs": [],
   "source": [
    "# Target Encoding"
   ]
  },
  {
   "cell_type": "code",
   "execution_count": 38,
   "metadata": {
    "collapsed": true
   },
   "outputs": [],
   "source": [
    "from category_encoders import TargetEncoder\n",
    "enc = TargetEncoder(cols=['Gender', 'Country', 'Profession', 'University Degree']).fit(X_train, y_train)"
   ]
  },
  {
   "cell_type": "code",
   "execution_count": 39,
   "metadata": {
    "collapsed": true
   },
   "outputs": [],
   "source": [
    "X_train = enc.transform(X_train, y_train)"
   ]
  },
  {
   "cell_type": "code",
   "execution_count": 40,
   "metadata": {},
   "outputs": [
    {
     "data": {
      "text/html": [
       "<div>\n",
       "<style scoped>\n",
       "    .dataframe tbody tr th:only-of-type {\n",
       "        vertical-align: middle;\n",
       "    }\n",
       "\n",
       "    .dataframe tbody tr th {\n",
       "        vertical-align: top;\n",
       "    }\n",
       "\n",
       "    .dataframe thead th {\n",
       "        text-align: right;\n",
       "    }\n",
       "</style>\n",
       "<table border=\"1\" class=\"dataframe\">\n",
       "  <thead>\n",
       "    <tr style=\"text-align: right;\">\n",
       "      <th></th>\n",
       "      <th>Age</th>\n",
       "      <th>Body Height [cm]</th>\n",
       "      <th>Country</th>\n",
       "      <th>Gender</th>\n",
       "      <th>Instance</th>\n",
       "      <th>Profession</th>\n",
       "      <th>Size of City</th>\n",
       "      <th>University Degree</th>\n",
       "      <th>Year of Record</th>\n",
       "    </tr>\n",
       "  </thead>\n",
       "  <tbody>\n",
       "    <tr>\n",
       "      <td>61132</td>\n",
       "      <td>0.178571</td>\n",
       "      <td>0.491228</td>\n",
       "      <td>0.007453</td>\n",
       "      <td>0.022348</td>\n",
       "      <td>61133</td>\n",
       "      <td>0.024079</td>\n",
       "      <td>0.027969</td>\n",
       "      <td>0.020384</td>\n",
       "      <td>0.820513</td>\n",
       "    </tr>\n",
       "    <tr>\n",
       "      <td>25292</td>\n",
       "      <td>0.375000</td>\n",
       "      <td>0.678363</td>\n",
       "      <td>0.008070</td>\n",
       "      <td>0.022348</td>\n",
       "      <td>25293</td>\n",
       "      <td>0.025306</td>\n",
       "      <td>0.000996</td>\n",
       "      <td>0.023100</td>\n",
       "      <td>0.333333</td>\n",
       "    </tr>\n",
       "    <tr>\n",
       "      <td>46325</td>\n",
       "      <td>0.241071</td>\n",
       "      <td>0.672515</td>\n",
       "      <td>0.013129</td>\n",
       "      <td>0.022348</td>\n",
       "      <td>46326</td>\n",
       "      <td>0.025293</td>\n",
       "      <td>0.055526</td>\n",
       "      <td>0.021731</td>\n",
       "      <td>0.974359</td>\n",
       "    </tr>\n",
       "    <tr>\n",
       "      <td>7498</td>\n",
       "      <td>0.285714</td>\n",
       "      <td>0.456140</td>\n",
       "      <td>0.009807</td>\n",
       "      <td>0.022386</td>\n",
       "      <td>7499</td>\n",
       "      <td>0.019511</td>\n",
       "      <td>0.001934</td>\n",
       "      <td>0.020384</td>\n",
       "      <td>0.461538</td>\n",
       "    </tr>\n",
       "    <tr>\n",
       "      <td>14111</td>\n",
       "      <td>0.089286</td>\n",
       "      <td>0.438596</td>\n",
       "      <td>0.041207</td>\n",
       "      <td>0.022386</td>\n",
       "      <td>14112</td>\n",
       "      <td>0.026152</td>\n",
       "      <td>0.021018</td>\n",
       "      <td>0.023100</td>\n",
       "      <td>0.179487</td>\n",
       "    </tr>\n",
       "  </tbody>\n",
       "</table>\n",
       "</div>"
      ],
      "text/plain": [
       "            Age  Body Height [cm]   Country    Gender  Instance  Profession  \\\n",
       "61132  0.178571          0.491228  0.007453  0.022348     61133    0.024079   \n",
       "25292  0.375000          0.678363  0.008070  0.022348     25293    0.025306   \n",
       "46325  0.241071          0.672515  0.013129  0.022348     46326    0.025293   \n",
       "7498   0.285714          0.456140  0.009807  0.022386      7499    0.019511   \n",
       "14111  0.089286          0.438596  0.041207  0.022386     14112    0.026152   \n",
       "\n",
       "       Size of City  University Degree  Year of Record  \n",
       "61132      0.027969           0.020384        0.820513  \n",
       "25292      0.000996           0.023100        0.333333  \n",
       "46325      0.055526           0.021731        0.974359  \n",
       "7498       0.001934           0.020384        0.461538  \n",
       "14111      0.021018           0.023100        0.179487  "
      ]
     },
     "execution_count": 40,
     "metadata": {},
     "output_type": "execute_result"
    }
   ],
   "source": [
    "X_train.head()"
   ]
  },
  {
   "cell_type": "code",
   "execution_count": 41,
   "metadata": {
    "collapsed": true
   },
   "outputs": [],
   "source": [
    "X_validation = enc.transform(X_validation, y_validation)"
   ]
  },
  {
   "cell_type": "code",
   "execution_count": 43,
   "metadata": {},
   "outputs": [
    {
     "data": {
      "text/html": [
       "<div>\n",
       "<style scoped>\n",
       "    .dataframe tbody tr th:only-of-type {\n",
       "        vertical-align: middle;\n",
       "    }\n",
       "\n",
       "    .dataframe tbody tr th {\n",
       "        vertical-align: top;\n",
       "    }\n",
       "\n",
       "    .dataframe thead th {\n",
       "        text-align: right;\n",
       "    }\n",
       "</style>\n",
       "<table border=\"1\" class=\"dataframe\">\n",
       "  <thead>\n",
       "    <tr style=\"text-align: right;\">\n",
       "      <th></th>\n",
       "      <th>Age</th>\n",
       "      <th>Body Height [cm]</th>\n",
       "      <th>Country</th>\n",
       "      <th>Gender</th>\n",
       "      <th>Instance</th>\n",
       "      <th>Profession</th>\n",
       "      <th>Size of City</th>\n",
       "      <th>University Degree</th>\n",
       "      <th>Year of Record</th>\n",
       "    </tr>\n",
       "  </thead>\n",
       "  <tbody>\n",
       "    <tr>\n",
       "      <td>82799</td>\n",
       "      <td>0.116071</td>\n",
       "      <td>0.333333</td>\n",
       "      <td>0.007397</td>\n",
       "      <td>0.022386</td>\n",
       "      <td>82800</td>\n",
       "      <td>0.014598</td>\n",
       "      <td>0.015213</td>\n",
       "      <td>0.021731</td>\n",
       "      <td>0.461538</td>\n",
       "    </tr>\n",
       "    <tr>\n",
       "      <td>63874</td>\n",
       "      <td>0.223214</td>\n",
       "      <td>0.631579</td>\n",
       "      <td>0.038522</td>\n",
       "      <td>0.022386</td>\n",
       "      <td>63875</td>\n",
       "      <td>0.015007</td>\n",
       "      <td>0.011167</td>\n",
       "      <td>0.021731</td>\n",
       "      <td>0.948718</td>\n",
       "    </tr>\n",
       "    <tr>\n",
       "      <td>101402</td>\n",
       "      <td>0.035714</td>\n",
       "      <td>0.619883</td>\n",
       "      <td>0.005788</td>\n",
       "      <td>0.022348</td>\n",
       "      <td>101403</td>\n",
       "      <td>0.019422</td>\n",
       "      <td>0.018150</td>\n",
       "      <td>0.018672</td>\n",
       "      <td>0.846154</td>\n",
       "    </tr>\n",
       "    <tr>\n",
       "      <td>99747</td>\n",
       "      <td>0.133929</td>\n",
       "      <td>0.415205</td>\n",
       "      <td>0.016021</td>\n",
       "      <td>0.022348</td>\n",
       "      <td>99748</td>\n",
       "      <td>0.024079</td>\n",
       "      <td>0.007396</td>\n",
       "      <td>0.021731</td>\n",
       "      <td>0.128205</td>\n",
       "    </tr>\n",
       "    <tr>\n",
       "      <td>32126</td>\n",
       "      <td>0.187500</td>\n",
       "      <td>0.590643</td>\n",
       "      <td>0.026583</td>\n",
       "      <td>0.022386</td>\n",
       "      <td>32127</td>\n",
       "      <td>0.035568</td>\n",
       "      <td>0.007872</td>\n",
       "      <td>0.021731</td>\n",
       "      <td>0.641026</td>\n",
       "    </tr>\n",
       "  </tbody>\n",
       "</table>\n",
       "</div>"
      ],
      "text/plain": [
       "             Age  Body Height [cm]   Country    Gender  Instance  Profession  \\\n",
       "82799   0.116071          0.333333  0.007397  0.022386     82800    0.014598   \n",
       "63874   0.223214          0.631579  0.038522  0.022386     63875    0.015007   \n",
       "101402  0.035714          0.619883  0.005788  0.022348    101403    0.019422   \n",
       "99747   0.133929          0.415205  0.016021  0.022348     99748    0.024079   \n",
       "32126   0.187500          0.590643  0.026583  0.022386     32127    0.035568   \n",
       "\n",
       "        Size of City  University Degree  Year of Record  \n",
       "82799       0.015213           0.021731        0.461538  \n",
       "63874       0.011167           0.021731        0.948718  \n",
       "101402      0.018150           0.018672        0.846154  \n",
       "99747       0.007396           0.021731        0.128205  \n",
       "32126       0.007872           0.021731        0.641026  "
      ]
     },
     "execution_count": 43,
     "metadata": {},
     "output_type": "execute_result"
    }
   ],
   "source": [
    "X_validation.head()"
   ]
  },
  {
   "cell_type": "markdown",
   "metadata": {},
   "source": [
    "# Learning Models"
   ]
  },
  {
   "cell_type": "code",
   "execution_count": 44,
   "metadata": {
    "collapsed": true
   },
   "outputs": [],
   "source": [
    "from sklearn.linear_model import LinearRegression"
   ]
  },
  {
   "cell_type": "code",
   "execution_count": 45,
   "metadata": {
    "collapsed": true
   },
   "outputs": [],
   "source": [
    "linear_reg_model = LinearRegression()"
   ]
  },
  {
   "cell_type": "code",
   "execution_count": 46,
   "metadata": {},
   "outputs": [
    {
     "data": {
      "text/plain": [
       "LinearRegression(copy_X=True, fit_intercept=True, n_jobs=None, normalize=False)"
      ]
     },
     "execution_count": 46,
     "metadata": {},
     "output_type": "execute_result"
    }
   ],
   "source": [
    "linear_reg_model.fit(X_train, y_train)"
   ]
  },
  {
   "cell_type": "code",
   "execution_count": 48,
   "metadata": {},
   "outputs": [
    {
     "data": {
      "text/plain": [
       "0.7033758176690325"
      ]
     },
     "execution_count": 48,
     "metadata": {},
     "output_type": "execute_result"
    }
   ],
   "source": [
    "linear_reg_model.score(X_validation, y_validation)"
   ]
  },
  {
   "cell_type": "code",
   "execution_count": null,
   "metadata": {
    "collapsed": true
   },
   "outputs": [],
   "source": [
    "# Random Forest"
   ]
  },
  {
   "cell_type": "code",
   "execution_count": 49,
   "metadata": {
    "collapsed": true
   },
   "outputs": [],
   "source": [
    "from sklearn.ensemble import RandomForestRegressor"
   ]
  },
  {
   "cell_type": "code",
   "execution_count": 50,
   "metadata": {
    "collapsed": true
   },
   "outputs": [],
   "source": [
    "randomforest = RandomForestRegressor()"
   ]
  },
  {
   "cell_type": "code",
   "execution_count": 51,
   "metadata": {},
   "outputs": [
    {
     "name": "stderr",
     "output_type": "stream",
     "text": [
      "C:\\winpython\\WinPython-64bit-3.6.1.0Qt5\\python-3.6.1.amd64\\lib\\site-packages\\sklearn\\ensemble\\forest.py:245: FutureWarning: The default value of n_estimators will change from 10 in version 0.20 to 100 in 0.22.\n",
      "  \"10 in version 0.20 to 100 in 0.22.\", FutureWarning)\n",
      "C:\\winpython\\WinPython-64bit-3.6.1.0Qt5\\python-3.6.1.amd64\\lib\\site-packages\\ipykernel\\__main__.py:1: DataConversionWarning: A column-vector y was passed when a 1d array was expected. Please change the shape of y to (n_samples,), for example using ravel().\n",
      "  if __name__ == '__main__':\n"
     ]
    },
    {
     "data": {
      "text/plain": [
       "RandomForestRegressor(bootstrap=True, criterion='mse', max_depth=None,\n",
       "                      max_features='auto', max_leaf_nodes=None,\n",
       "                      min_impurity_decrease=0.0, min_impurity_split=None,\n",
       "                      min_samples_leaf=1, min_samples_split=2,\n",
       "                      min_weight_fraction_leaf=0.0, n_estimators=10,\n",
       "                      n_jobs=None, oob_score=False, random_state=None,\n",
       "                      verbose=0, warm_start=False)"
      ]
     },
     "execution_count": 51,
     "metadata": {},
     "output_type": "execute_result"
    }
   ],
   "source": [
    "randomforest.fit(X_train, y_train)"
   ]
  },
  {
   "cell_type": "code",
   "execution_count": 52,
   "metadata": {},
   "outputs": [
    {
     "data": {
      "text/plain": [
       "0.7955287037215513"
      ]
     },
     "execution_count": 52,
     "metadata": {},
     "output_type": "execute_result"
    }
   ],
   "source": [
    "randomforest.score(X_validation, y_validation)"
   ]
  },
  {
   "cell_type": "markdown",
   "metadata": {},
   "source": [
    "# Make Predictions"
   ]
  },
  {
   "cell_type": "code",
   "execution_count": 53,
   "metadata": {},
   "outputs": [
    {
     "data": {
      "text/plain": [
       "(73230, 9)"
      ]
     },
     "execution_count": 53,
     "metadata": {},
     "output_type": "execute_result"
    }
   ],
   "source": [
    "X_test = test_df.drop([\"Income\"], axis=1)\n",
    "X_test.shape"
   ]
  },
  {
   "cell_type": "code",
   "execution_count": 54,
   "metadata": {
    "collapsed": true
   },
   "outputs": [],
   "source": [
    "test_df = enc.transform(X_test)"
   ]
  },
  {
   "cell_type": "code",
   "execution_count": 55,
   "metadata": {
    "collapsed": true
   },
   "outputs": [],
   "source": [
    "test_predictions = randomforest.predict(test_df)"
   ]
  },
  {
   "cell_type": "code",
   "execution_count": 58,
   "metadata": {},
   "outputs": [
    {
     "data": {
      "text/plain": [
       "0    32344.345587\n",
       "1    12920.268978\n",
       "2    35568.263980\n",
       "3    98269.169674\n",
       "4    30106.588440\n",
       "Name: Income, dtype: float64"
      ]
     },
     "execution_count": 58,
     "metadata": {},
     "output_type": "execute_result"
    }
   ],
   "source": [
    "test_df[\"Income\"] = result_scaler.inverse_transform(test_predictions.reshape((-1,1)))\n",
    "#test_df[\"Income\"] = result_scaler.inverse_transform()\n",
    "test_df[\"Income\"].head()"
   ]
  },
  {
   "cell_type": "markdown",
   "metadata": {},
   "source": [
    "# Submission file"
   ]
  },
  {
   "cell_type": "code",
   "execution_count": 59,
   "metadata": {
    "collapsed": true
   },
   "outputs": [],
   "source": [
    "submission_df = pd.read_csv(\"./tcdml1920-income-ind/tcd ml 2019-20 income prediction submission file.csv\")"
   ]
  },
  {
   "cell_type": "code",
   "execution_count": 60,
   "metadata": {
    "collapsed": true
   },
   "outputs": [],
   "source": [
    "submission_df = submission_df[[\"Instance\"]].merge(test_df[submission_df.columns], on=\"Instance\")"
   ]
  },
  {
   "cell_type": "code",
   "execution_count": 61,
   "metadata": {
    "collapsed": true
   },
   "outputs": [],
   "source": [
    "submission_df.to_csv(\"submission_final.csv\")"
   ]
  },
  {
   "cell_type": "markdown",
   "metadata": {},
   "source": [
    "# RMSE"
   ]
  },
  {
   "cell_type": "code",
   "execution_count": 70,
   "metadata": {
    "collapsed": true
   },
   "outputs": [],
   "source": [
    "from sklearn.metrics import mean_squared_error"
   ]
  },
  {
   "cell_type": "code",
   "execution_count": 62,
   "metadata": {
    "collapsed": true
   },
   "outputs": [],
   "source": [
    "y_true = pd.read_csv(\"./tcdml1920-income-ind/tcd ml 2019-20 income prediction training (with labels).csv\")['Income in EUR']"
   ]
  },
  {
   "cell_type": "code",
   "execution_count": 69,
   "metadata": {},
   "outputs": [
    {
     "data": {
      "text/plain": [
       "array([[ 21351.08494],\n",
       "       [171326.3243 ],\n",
       "       [ 28737.65812],\n",
       "       ...,\n",
       "       [ 32651.44744],\n",
       "       [133100.3518 ],\n",
       "       [115175.2898 ]])"
      ]
     },
     "execution_count": 69,
     "metadata": {},
     "output_type": "execute_result"
    }
   ],
   "source": [
    "y_validation_true = result_scaler.inverse_transform(y_validation)\n",
    "y_validation_true"
   ]
  },
  {
   "cell_type": "code",
   "execution_count": 65,
   "metadata": {},
   "outputs": [
    {
     "data": {
      "text/plain": [
       "array([[ 23615.38150099],\n",
       "       [218706.128655  ],\n",
       "       [ 69811.56271807],\n",
       "       ...,\n",
       "       [ 36490.49062567],\n",
       "       [107566.20322533],\n",
       "       [ 99751.30541667]])"
      ]
     },
     "execution_count": 65,
     "metadata": {},
     "output_type": "execute_result"
    }
   ],
   "source": [
    "validation_pred = randomforest.predict(X_validation)\n",
    "validation_pred = result_scaler.inverse_transform(validation_pred.reshape((-1,1)))\n",
    "validation_pred"
   ]
  },
  {
   "cell_type": "code",
   "execution_count": 89,
   "metadata": {
    "collapsed": true
   },
   "outputs": [],
   "source": [
    "diff = y_validation_true - validation_pred"
   ]
  },
  {
   "cell_type": "code",
   "execution_count": 90,
   "metadata": {},
   "outputs": [
    {
     "data": {
      "text/plain": [
       "array([[5.12703892e+06],\n",
       "       [2.24484586e+09],\n",
       "       [1.68706564e+09],\n",
       "       ...,\n",
       "       [1.47382526e+07],\n",
       "       [6.51992743e+08],\n",
       "       [2.37899294e+08]])"
      ]
     },
     "execution_count": 90,
     "metadata": {},
     "output_type": "execute_result"
    }
   ],
   "source": [
    "sq = diff * diff\n",
    "sq"
   ]
  },
  {
   "cell_type": "code",
   "execution_count": 91,
   "metadata": {},
   "outputs": [
    {
     "data": {
      "text/plain": [
       "98538292988834.22"
      ]
     },
     "execution_count": 91,
     "metadata": {},
     "output_type": "execute_result"
    }
   ],
   "source": [
    "summ = np.sum(sq)\n",
    "summ"
   ]
  },
  {
   "cell_type": "code",
   "execution_count": 92,
   "metadata": {},
   "outputs": [
    {
     "data": {
      "text/plain": [
       "66326.67134025955"
      ]
     },
     "execution_count": 92,
     "metadata": {},
     "output_type": "execute_result"
    }
   ],
   "source": [
    "rmse = np.sqrt(summ / np.size(validation_indices))\n",
    "rmse"
   ]
  }
 ],
 "metadata": {
  "kernelspec": {
   "display_name": "Python 3",
   "language": "python",
   "name": "python3"
  },
  "language_info": {
   "codemirror_mode": {
    "name": "ipython",
    "version": 3
   },
   "file_extension": ".py",
   "mimetype": "text/x-python",
   "name": "python",
   "nbconvert_exporter": "python",
   "pygments_lexer": "ipython3",
   "version": "3.6.1"
  }
 },
 "nbformat": 4,
 "nbformat_minor": 2
}
